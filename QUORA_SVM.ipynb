{
 "cells": [
  {
   "cell_type": "markdown",
   "metadata": {
    "_uuid": "5f89fb1a64f63d3cb1845778718e695d2e5e3c2f"
   },
   "source": [
    "#  4.Quora Insincere Questions Classification  \n",
    "### SVM"
   ]
  },
  {
   "cell_type": "markdown",
   "metadata": {
    "_uuid": "445677aec882614fdcf5e33c8c3bce80462a1122"
   },
   "source": [
    "### 4.1 Import necessary libraries"
   ]
  },
  {
   "cell_type": "code",
   "execution_count": 1,
   "metadata": {
    "_uuid": "0f031d4e082fa5e36862b1a8851ad739d231d0ae"
   },
   "outputs": [],
   "source": [
    "import string\n",
    "import os\n",
    "import math\n",
    "\n",
    "import pandas as pd\n",
    "import numpy as np\n",
    "import nltk\n",
    "\n",
    "from nltk.util import ngrams\n",
    "from nltk.tokenize import RegexpTokenizer\n",
    "from nltk.corpus import stopwords\n",
    "from nltk.stem import SnowballStemmer\n",
    "\n",
    "from sklearn.svm import LinearSVC\n",
    "from sklearn.model_selection import train_test_split\n",
    "from sklearn.feature_extraction.text import TfidfVectorizer\n",
    "from sklearn.metrics import accuracy_score, f1_score, precision_score, recall_score, classification_report, confusion_matrix"
   ]
  },
  {
   "cell_type": "code",
   "execution_count": 6,
   "metadata": {
    "_uuid": "47de3b76162ddc7a1785c4a925f208328c4e8915"
   },
   "outputs": [],
   "source": [
    "# Parameters and definitions\n",
    "RANDOM_SEED = 0\n",
    "VAL_SET_SIZE = 0.2"
   ]
  },
  {
   "cell_type": "code",
   "execution_count": 7,
   "metadata": {
    "_uuid": "6cf1e6fcc22e8b07d658afc9fdcfa860f9e2d1f3"
   },
   "outputs": [],
   "source": [
    "# Download essential resources\n",
    "stop_words = stopwords.words('english')\n",
    "stemmer = SnowballStemmer('english')"
   ]
  },
  {
   "cell_type": "code",
   "execution_count": 8,
   "metadata": {
    "_uuid": "96e0dae0b6f3d3eb777e0fb4346da37ce9a4c959"
   },
   "outputs": [],
   "source": [
    "np.random.seed(RANDOM_SEED)"
   ]
  },
  {
   "cell_type": "markdown",
   "metadata": {
    "_uuid": "dbb4282c349d40ef1dd3e22eceaefb5028e44356"
   },
   "source": [
    "### File Paths"
   ]
  },
  {
   "cell_type": "code",
   "execution_count": 9,
   "metadata": {
    "_uuid": "c73b0d56a143137e5cdb3e4f0f7901ffc0987fb4"
   },
   "outputs": [],
   "source": [
    "DATA_DIR = \"../input/\"\n",
    "TRAIN_SAMPLES = DATA_DIR+\"train.csv\"\n",
    "TEST_SAMPLES = DATA_DIR+\"test.csv\"\n",
    "EMBD_SAMPLES = DATA_DIR+\"embeddings.zip\"\n",
    "MODEL_OUT = \"model-svm.pkl\""
   ]
  },
  {
   "cell_type": "markdown",
   "metadata": {
    "_uuid": "bdfabe244dd371db2c9896a0532ed51cf4a95be9"
   },
   "source": [
    "###  4.2 Vectorization"
   ]
  },
  {
   "cell_type": "code",
   "execution_count": 17,
   "metadata": {
    "_uuid": "1853087c249841b5e5e408f7f0ab5666b8545715"
   },
   "outputs": [],
   "source": [
    "def build_TF(dt_train, dt_test):\n",
    "    \"\"\"Builds the TF-IDF matrix.\"\"\"\n",
    "    max_features = 50000  # More than this would filter in noise also\n",
    "    tfidf_vectorizer = TfidfVectorizer(ngram_range =(2,4) , max_df=0.90, min_df=5, max_features=max_features)\n",
    "    X = tfidf_vectorizer.fit_transform(dt_train['question_text'])\n",
    "    X_test = tfidf_vectorizer.transform(dt_test['question_text'])\n",
    "    tfidf_feature_names = tfidf_vectorizer.get_feature_names()\n",
    "    y = dt_train[\"target\"]\n",
    "    return [train_test_split(X, y, test_size=VAL_SET_SIZE), X_test]"
   ]
  },
  {
   "cell_type": "code",
   "execution_count": 18,
   "metadata": {
    "_uuid": "663185cc0695f147f21c9d93e378cfb5f15688ef"
   },
   "outputs": [],
   "source": [
    "tfvect = build_TF(df_train, df_test)\n",
    "X_train, X_val, y_train, y_val = tfvect[0]\n",
    "X_test = tfvect[1]"
   ]
  },
  {
   "cell_type": "markdown",
   "metadata": {
    "_uuid": "6ed09986aea4f0f6339a7f31b1112adad59c5810"
   },
   "source": [
    "### 4.3 Machine Learning"
   ]
  },
  {
   "cell_type": "code",
   "execution_count": 19,
   "metadata": {
    "_uuid": "64756a86ec97cf30419cc7e7e30e9c7b538846eb"
   },
   "outputs": [],
   "source": [
    "#Builds an SVM model.\n",
    "def build_model(dt_train, dt_test):\n",
    "    return LinearSVC(C=0.5).fit(X_train, y_train)"
   ]
  },
  {
   "cell_type": "code",
   "execution_count": 20,
   "metadata": {
    "_uuid": "c42e07cdd2b76339ec0e252be2f2613421a87836"
   },
   "outputs": [],
   "source": [
    "# Build the model\n",
    "svm_model = build_model(df_train, df_test)"
   ]
  },
  {
   "cell_type": "code",
   "execution_count": 21,
   "metadata": {
    "_uuid": "74b5af6502e6f2a7b607834c39de9a3bf16b67f5"
   },
   "outputs": [],
   "source": [
    "# Produce predictions\n",
    "y_pred_train = svm_model.predict(X_train)\n",
    "y_pred_val = svm_model.predict(X_val)\n",
    "y_pred_test = svm_model.predict(X_test)"
   ]
  },
  {
   "cell_type": "markdown",
   "metadata": {
    "_uuid": "f0206329a656a868eee6efc9b9261c2b2b8e969c"
   },
   "source": [
    "### Evaluation"
   ]
  },
  {
   "cell_type": "code",
   "execution_count": 22,
   "metadata": {
    "_uuid": "23811f49929232e45c0de5092eeba5fad809e88e"
   },
   "outputs": [],
   "source": [
    "#Produces a report containing the accuracy, f1-score, precision and recall metrics.\n",
    "def produce_metrics(y, y_pred):\n",
    "    print(\"Accuracy: {}, F1 Score: {}, Precision: {}, Recall: {}\".format(accuracy_score(y, y_pred),\n",
    "                                                                     f1_score(y, y_pred, average=\"macro\"),\n",
    "                                                                     precision_score(y, y_pred, average=\"macro\"),\n",
    "                                                                     recall_score(y, y_pred, average=\"macro\")))"
   ]
  },
  {
   "cell_type": "code",
   "execution_count": 23,
   "metadata": {
    "_uuid": "4fa7a1b541a2745bb58cee18f376fd43b87672b2"
   },
   "outputs": [],
   "source": [
    "#Produces a classification report\n",
    "def produce_classification_report(y, y_pred):\n",
    "    print(classification_report(y, y_pred))"
   ]
  },
  {
   "cell_type": "code",
   "execution_count": 24,
   "metadata": {
    "_uuid": "2906068c31a8dbae33b69c7b1a2b2163af0f009e"
   },
   "outputs": [
    {
     "name": "stdout",
     "output_type": "stream",
     "text": [
      "Accuracy: 0.9483020814491764, F1 Score: 0.6811086922665801, Precision: 0.8397256106696354, Recall: 0.6296225894814238\n"
     ]
    }
   ],
   "source": [
    "produce_metrics(y_train, y_pred_train)"
   ]
  },
  {
   "cell_type": "code",
   "execution_count": 25,
   "metadata": {
    "_uuid": "4c43f8883bab82d5331ea87556515de38ca3aefe"
   },
   "outputs": [
    {
     "name": "stdout",
     "output_type": "stream",
     "text": [
      "Accuracy: 0.9446262800267968, F1 Score: 0.6550135328565445, Precision: 0.7951687416803697, Recall: 0.6110502050917679\n"
     ]
    }
   ],
   "source": [
    "produce_metrics(y_val, y_pred_val)"
   ]
  },
  {
   "cell_type": "code",
   "execution_count": 26,
   "metadata": {
    "_uuid": "b67f83e7cbec329dab2f973c735e9a75c3d5d4b3"
   },
   "outputs": [
    {
     "name": "stdout",
     "output_type": "stream",
     "text": [
      "              precision    recall  f1-score   support\n",
      "\n",
      "           0       0.95      0.99      0.97    245149\n",
      "           1       0.64      0.23      0.34     16076\n",
      "\n",
      "   micro avg       0.94      0.94      0.94    261225\n",
      "   macro avg       0.80      0.61      0.66    261225\n",
      "weighted avg       0.93      0.94      0.93    261225\n",
      "\n"
     ]
    }
   ],
   "source": [
    "produce_classification_report(y_val, y_pred_val)"
   ]
  },
  {
   "cell_type": "markdown",
   "metadata": {},
   "source": [
    "## In this notebook We built SVM model.We will explore LSTM in the next notebook"
   ]
  },
  {
   "cell_type": "code",
   "execution_count": null,
   "metadata": {},
   "outputs": [],
   "source": []
  }
 ],
 "metadata": {
  "kernelspec": {
   "display_name": "Python 3",
   "language": "python",
   "name": "python3"
  },
  "language_info": {
   "codemirror_mode": {
    "name": "ipython",
    "version": 3
   },
   "file_extension": ".py",
   "mimetype": "text/x-python",
   "name": "python",
   "nbconvert_exporter": "python",
   "pygments_lexer": "ipython3",
   "version": "3.6.5"
  }
 },
 "nbformat": 4,
 "nbformat_minor": 1
}
